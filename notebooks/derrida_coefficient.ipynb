{
 "metadata": {
  "language_info": {
   "codemirror_mode": {
    "name": "ipython",
    "version": 3
   },
   "file_extension": ".py",
   "mimetype": "text/x-python",
   "name": "python",
   "nbconvert_exporter": "python",
   "pygments_lexer": "ipython3",
   "version": "3.8.3-final"
  },
  "orig_nbformat": 2,
  "kernelspec": {
   "name": "python38364bitboolmininfoconda1cc4eb3b6a754ab785296f78aacb3903",
   "display_name": "Python 3.8.3 64-bit ('boolmininfo': conda)"
  }
 },
 "nbformat": 4,
 "nbformat_minor": 2,
 "cells": [
  {
   "source": [
    "# Derrida Coefficient\n",
    "\n",
    "In this notebook we're going to figure out the code we need to calculate the Deridda coefficient before moving it into a script to run on all of ECA. I'm honestly not even sure the STGs give us an advantage here but they might make it easier. who knows.\n",
    "\n",
    "I'm going to be basing my calculation off of $D_c$ as shown in Santosh's dissertation."
   ],
   "cell_type": "markdown",
   "metadata": {}
  },
  {
   "cell_type": "code",
   "execution_count": 86,
   "metadata": {},
   "outputs": [
    {
     "output_type": "execute_result",
     "data": {
      "text/plain": [
       "7"
      ]
     },
     "metadata": {},
     "execution_count": 86
    }
   ],
   "source": [
    "import numpy as np\n",
    "import networkx as nx\n",
    "import matplotlib.pyplot as plt\n",
    "from copy import copy, deepcopy\n",
    "\n",
    "# will need this later\n",
    "# converts an integer to a boolean representation as a list\n",
    "def to_binary(n, digits=8):\n",
    "    binary_digits = []\n",
    "    for _ in range(digits):\n",
    "        binary_digits.append(int(n % 2))\n",
    "        n = int(n / 2)\n",
    "    return binary_digits[::-1]\n",
    "\n",
    "def to_decimal(b, digits):\n",
    "    expos = np.arange(digits, 0, -1) - 1\n",
    "    enc = 2**expos\n",
    "    return np.array(b).T.dot(enc)\n",
    "\n",
    "# which rule do we want to look at\n",
    "rule = 54\n",
    "cells = 6\n",
    "\n",
    "STG = nx.read_graphml('../data/eca_stgs/' + str(rule) + '/' + str(cells) + '_cells.graphml')\n",
    "to_decimal([1, 1, 1], 3)"
   ]
  },
  {
   "cell_type": "code",
   "execution_count": 87,
   "metadata": {},
   "outputs": [
    {
     "output_type": "execute_result",
     "data": {
      "text/plain": [
       "1.0"
      ]
     },
     "metadata": {},
     "execution_count": 87
    }
   ],
   "source": [
    "# params for derrida drawn from Santosh's dissertation\n",
    "# n/10 is not useful here so we'll try just 1?? maybe [1, 2]??\n",
    "M = 1\n",
    "\n",
    "def derrida(G, cells):\n",
    "    \"\"\"\n",
    "    Parameters\n",
    "    ----------\n",
    "    G : nx.DiGraph\n",
    "        state-transition graph for the system\n",
    "    m : array-like (int) [not implemented]\n",
    "        size of perturbations to consider\n",
    "    \n",
    "    Return\n",
    "    ------\n",
    "    D : float\n",
    "        deridda coefficient\n",
    "    \"\"\"\n",
    "\n",
    "    derrida = 0\n",
    "\n",
    "    # we check this value over all posible states\n",
    "    for state in range(2**cells):\n",
    "        # get next state from graph\n",
    "        next_state = next(G.neighbors(str(state)))\n",
    "        # binary represenatation of initial state\n",
    "        encoded_init = to_binary(state, cells)\n",
    "\n",
    "        # for every possible perturbation\n",
    "        for bit in range(cells):\n",
    "            # flip a bit to make the perturbation\n",
    "            perturb = deepcopy(encoded_init)\n",
    "            if perturb[bit] == 0:\n",
    "                perturb[bit] = 1\n",
    "            elif perturb[bit] == 1:\n",
    "                perturb[bit] = 0\n",
    "\n",
    "            # get the next step in the perturbed state\n",
    "            next_perturbed = next(G.neighbors(str(to_decimal(perturb, cells))))\n",
    "            \n",
    "            bin_next_state = np.array(to_binary(int(next_state), cells))\n",
    "            bin_next_pert = np.array(to_binary(int(next_perturbed), cells))\n",
    "\n",
    "            derrida += np.sum(~(bin_next_state == bin_next_pert))\n",
    "    \n",
    "    derrida /= 2* cells * 2**cells\n",
    "\n",
    "    return derrida\n",
    "\n",
    "derrida(STG, cells)"
   ]
  },
  {
   "cell_type": "code",
   "execution_count": 67,
   "metadata": {},
   "outputs": [
    {
     "output_type": "stream",
     "name": "stdout",
     "text": [
      "[1 0 0 1]\n[1 0 0 0]\n1\n"
     ]
    }
   ],
   "source": [
    "x = np.array(to_binary(9, 4))\n",
    "y = np.array(to_binary(8, 4))\n",
    "hamming = np.sum(~(x == y))\n",
    "print(x)\n",
    "print(y)\n",
    "print(hamming)"
   ]
  },
  {
   "cell_type": "code",
   "execution_count": null,
   "metadata": {},
   "outputs": [],
   "source": []
  }
 ]
}